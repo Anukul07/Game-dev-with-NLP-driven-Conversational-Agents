{
 "cells": [
  {
   "cell_type": "markdown",
   "id": "2f976ca4",
   "metadata": {},
   "source": [
    "## Synthetic data pre-processing. "
   ]
  },
  {
   "cell_type": "code",
   "execution_count": null,
   "id": "159fdb78",
   "metadata": {},
   "outputs": [
    {
     "name": "stdout",
     "output_type": "stream",
     "text": [
      "Input:   D:\\Game\\Backend\\data\\synthetic_dialogue.txt\n",
      "Outputs: D:\\Game\\Backend\\data\\clean\n"
     ]
    }
   ],
   "source": [
    "import os, re, unicodedata, random, json\n",
    "from pathlib import Path\n",
    "\n",
    "PROJECT_ROOT = Path(\"..\").resolve() \n",
    "DATA_DIR     = PROJECT_ROOT / \"data\"\n",
    "OUTPUT_DIR   = DATA_DIR / \"clean\"\n",
    "\n",
    "INPUT_FILE   = DATA_DIR / \"synthetic_dialogue.txt\"\n",
    "\n",
    "\n",
    "CLEAN_ALL    = OUTPUT_DIR / \"synthetic_dialogue_clean.txt\"\n",
    "\n",
    "\n",
    "TRAIN_OUT    = OUTPUT_DIR / \"train.txt\"\n",
    "VAL_OUT      = OUTPUT_DIR / \"val.txt\"\n",
    "TEST_OUT     = OUTPUT_DIR / \"test.txt\"\n",
    "\n",
    "TRAIN_JSONL  = OUTPUT_DIR / \"train.jsonl\"\n",
    "VAL_JSONL    = OUTPUT_DIR / \"val.jsonl\"\n",
    "TEST_JSONL   = OUTPUT_DIR / \"test.jsonl\"\n",
    "\n",
    "OUTPUT_DIR.mkdir(parents=True, exist_ok=True)\n",
    "\n",
    "print(f\"Input:   {INPUT_FILE}\")\n",
    "print(f\"Outputs: {OUTPUT_DIR}\")\n"
   ]
  },
  {
   "cell_type": "code",
   "execution_count": null,
   "id": "bf1b2460",
   "metadata": {},
   "outputs": [],
   "source": [
    "VALID_NPCS = {\"Jacky\", \"Mr Dawson\", \"Father Jacob\", \"Tom\", \"Sarah\"}\n",
    "\n",
    "def normalize_line_keep_punct(s: str) -> str:\n",
    "    \"\"\"\n",
    "    Minimal normalization: NFKC width/spacing normalization,\n",
    "    collapse inner runs of spaces/tabs to single space, trim ends.\n",
    "    Does NOT change fancy punctuation.\n",
    "    \"\"\"\n",
    "    s = unicodedata.normalize(\"NFKC\", s)\n",
    "    s = re.sub(r\"[ \\t]+\", \" \", s).strip()\n",
    "    return s\n",
    "\n",
    "def canon_context_line(text: str) -> str:\n",
    "\n",
    "    content = text[len(\"<CONTEXT>\"):].strip()\n",
    "    if content.startswith(\">\"):\n",
    "        content = content[1:].strip()\n",
    "    return f\"<CONTEXT> {content}\"\n",
    "\n",
    "def canon_player_line(text: str) -> str:\n",
    "    content = text[len(\"<PLAYER>\"):].strip()\n",
    "    if content.startswith(\">\"):\n",
    "        content = content[1:].strip()\n",
    "    return f\"<PLAYER> {content}\"\n",
    "\n",
    "def canon_npc_line(text: str) -> str:\n",
    "    \n",
    "    m = re.match(r\"^<NPC>\\(([^)]+)\\)\\s*(.*)$\", text)\n",
    "    if not m:\n",
    "        return None\n",
    "    name, rest = m.group(1).strip(), m.group(2).strip()\n",
    "    if name not in VALID_NPCS:\n",
    "        return None\n",
    "    return f\"<NPC>({name}) {rest}\"\n"
   ]
  },
  {
   "cell_type": "code",
   "execution_count": 4,
   "id": "1551dbf1",
   "metadata": {},
   "outputs": [],
   "source": [
    "def parse_block(block_text: str):\n",
    "    \"\"\"\n",
    "    Parse a single block. Expected lines:\n",
    "      <CONTEXT> ...\n",
    "      <PLAYER> ...\n",
    "      <NPC>(Name) ...\n",
    "      <END>\n",
    "    Return (ctx_line, ply_line, npc_line, end_ok) or (None, None, None, False).\n",
    "    \"\"\"\n",
    "    lines = [ln for ln in block_text.splitlines() if ln.strip()]\n",
    "    ctx = ply = npc = None\n",
    "    end_ok = False\n",
    "\n",
    "    for ln in lines:\n",
    "        raw = normalize_line_keep_punct(ln)\n",
    "        if raw.startswith(\"<CONTEXT>\"):\n",
    "            ctx = canon_context_line(raw)\n",
    "        elif raw.startswith(\"<PLAYER>\"):\n",
    "            ply = canon_player_line(raw)\n",
    "        elif raw.startswith(\"<NPC>(\"):\n",
    "            npc = canon_npc_line(raw)\n",
    "        elif raw.startswith(\"<END>\"):\n",
    "            end_ok = True\n",
    "\n",
    "    if not (ctx and ply and npc and end_ok):\n",
    "        return None, None, None, False\n",
    "    return ctx, ply, npc, True\n"
   ]
  },
  {
   "cell_type": "code",
   "execution_count": null,
   "id": "f022cb2f",
   "metadata": {},
   "outputs": [
    {
     "name": "stdout",
     "output_type": "stream",
     "text": [
      "Raw blocks detected: 5119\n"
     ]
    }
   ],
   "source": [
    "raw = INPUT_FILE.read_text(encoding=\"utf-8\", errors=\"ignore\")\n",
    "raw_blocks = [b for b in re.split(r\"\\n\\s*\\n\", raw) if b.strip()]\n",
    "print(f\"Raw blocks detected: {len(raw_blocks)}\")\n"
   ]
  },
  {
   "cell_type": "code",
   "execution_count": null,
   "id": "439f58db",
   "metadata": {},
   "outputs": [
    {
     "name": "stdout",
     "output_type": "stream",
     "text": [
      "Kept: 5119 | Malformed: 0 | Invalid NPC: 0\n"
     ]
    }
   ],
   "source": [
    "clean_blocks = []\n",
    "malformed = 0\n",
    "bad_npc = 0\n",
    "\n",
    "for b in raw_blocks:\n",
    "    ctx, ply, npc, ok = parse_block(b)\n",
    "    if not ok:\n",
    "        \n",
    "        if \"<NPC>(\" in b and not re.search(r\"<NPC>\\(([^)]+)\\)\", b):\n",
    "            malformed += 1\n",
    "        else:\n",
    "            # Check if NPC name exists but invalid\n",
    "            m = re.search(r\"<NPC>\\(([^)]+)\\)\", b)\n",
    "            if m and m.group(1).strip() not in VALID_NPCS:\n",
    "                bad_npc += 1\n",
    "            else:\n",
    "                malformed += 1\n",
    "        continue\n",
    "\n",
    "    \n",
    "    rebuilt = \"\\n\".join([ctx, ply, npc, \"<END>\"])\n",
    "    clean_blocks.append(rebuilt)\n",
    "\n",
    "print(f\"Kept: {len(clean_blocks)} | Malformed: {malformed} | Invalid NPC: {bad_npc}\")\n"
   ]
  },
  {
   "cell_type": "code",
   "execution_count": 7,
   "id": "31aa10cd",
   "metadata": {},
   "outputs": [
    {
     "name": "stdout",
     "output_type": "stream",
     "text": [
      "--- SAMPLE 1 ---\n",
      "<CONTEXT> Player was rude to Father Jacob this morning. Rumors spread quickly among the villagers.\n",
      "<PLAYER> Jacky, I heard the talk—should I go apologize to Father Jacob?\n",
      "<NPC>(Jacky) Yes, do it proper and soon. Respect keeps this gate quiet.\n",
      "<END>\n",
      "\n",
      "--- SAMPLE 2 ---\n",
      "<CONTEXT> Player apologized to Father Jacob at the church door and was heard by visitors.\n",
      "<PLAYER> Father Jacob, thank you for hearing me out earlier.\n",
      "<NPC>(Father Jacob) We’re alright, Acool. Let today begin gentler than the last.\n",
      "<END>\n",
      "\n",
      "--- SAMPLE 3 ---\n",
      "<CONTEXT> Player helped Tom carry timber behind the church; builders spoke well of it.\n",
      "<PLAYER> Tom, need another pair of hands with those beams?\n",
      "<NPC>(Tom) Always. Grab the end and mind your thumbs.\n",
      "<END>\n",
      "\n"
     ]
    }
   ],
   "source": [
    "for i, blk in enumerate(clean_blocks[:3], 1):\n",
    "    print(f\"--- SAMPLE {i} ---\")\n",
    "    print(blk)\n",
    "    print()\n"
   ]
  },
  {
   "cell_type": "code",
   "execution_count": 8,
   "id": "4c803620",
   "metadata": {},
   "outputs": [
    {
     "name": "stdout",
     "output_type": "stream",
     "text": [
      "Cleaned corpus written → D:\\Game\\Backend\\data\\clean\\synthetic_dialogue_clean.txt\n"
     ]
    }
   ],
   "source": [
    "CLEAN_ALL.write_text(\"\\n\\n\".join(clean_blocks) + \"\\n\", encoding=\"utf-8\")\n",
    "print(f\"Cleaned corpus written → {CLEAN_ALL}\")\n"
   ]
  },
  {
   "cell_type": "code",
   "execution_count": null,
   "id": "07be9cf6",
   "metadata": {},
   "outputs": [
    {
     "name": "stdout",
     "output_type": "stream",
     "text": [
      "Train: 4609 → D:\\Game\\Backend\\data\\clean\\train.txt\n",
      "Val:   255 → D:\\Game\\Backend\\data\\clean\\val.txt\n",
      "Test:  255 → D:\\Game\\Backend\\data\\clean\\test.txt\n"
     ]
    }
   ],
   "source": [
    "random.seed(42)\n",
    "shuffled = clean_blocks[:] \n",
    "random.shuffle(shuffled)\n",
    "\n",
    "n = len(shuffled)\n",
    "n_test = max(1, int(0.05 * n))\n",
    "n_val  = max(1, int(0.05 * n))\n",
    "test = shuffled[:n_test]\n",
    "val  = shuffled[n_test:n_test+n_val]\n",
    "train = shuffled[n_test+n_val:]\n",
    "\n",
    "def write_blocks(path, blocks):\n",
    "    path.write_text(\"\\n\\n\".join(blocks) + \"\\n\", encoding=\"utf-8\")\n",
    "\n",
    "write_blocks(TRAIN_OUT, train)\n",
    "write_blocks(VAL_OUT, val)\n",
    "write_blocks(TEST_OUT, test)\n",
    "\n",
    "print(f\"Train: {len(train)} → {TRAIN_OUT}\")\n",
    "print(f\"Val:   {len(val)} → {VAL_OUT}\")\n",
    "print(f\"Test:  {len(test)} → {TEST_OUT}\")\n"
   ]
  },
  {
   "cell_type": "code",
   "execution_count": null,
   "id": "6de08811",
   "metadata": {},
   "outputs": [
    {
     "name": "stdout",
     "output_type": "stream",
     "text": [
      "JSONL written:\n",
      "- D:\\Game\\Backend\\data\\clean\\train.jsonl\n",
      "- D:\\Game\\Backend\\data\\clean\\val.jsonl\n",
      "- D:\\Game\\Backend\\data\\clean\\test.jsonl\n"
     ]
    }
   ],
   "source": [
    "def block_to_jsonl_item(block):\n",
    "    \n",
    "    lines = [ln for ln in block.splitlines() if ln.strip()]\n",
    "    ctx = lines[0][len(\"<CONTEXT>\"):].strip()\n",
    "    ply = lines[1][len(\"<PLAYER>\"):].strip()\n",
    "    m   = re.match(r\"^<NPC>\\(([^)]+)\\)\\s(.*)$\", lines[2])\n",
    "    npc_name, npc_text = (m.group(1).strip(), m.group(2).strip()) if m else (\"\", \"\")\n",
    "    return {\n",
    "        \"context\": ctx,\n",
    "        \"player\": ply,\n",
    "        \"npc_name\": npc_name,\n",
    "        \"reference\": npc_text,\n",
    "        \"prompt\": f\"<CONTEXT> {ctx}\\n<PLAYER> {ply}\\n<NPC>({npc_name})\",\n",
    "        \"target\": f\" {npc_text}\"\n",
    "    }\n",
    "\n",
    "def write_jsonl(path, blocks):\n",
    "    with path.open(\"w\", encoding=\"utf-8\") as f:\n",
    "        for b in blocks:\n",
    "            f.write(json.dumps(block_to_jsonl_item(b), ensure_ascii=False) + \"\\n\")\n",
    "\n",
    "write_jsonl(TRAIN_JSONL, train)\n",
    "write_jsonl(VAL_JSONL, val)\n",
    "write_jsonl(TEST_JSONL, test)\n",
    "\n",
    "print(f\"JSONL written:\\n- {TRAIN_JSONL}\\n- {VAL_JSONL}\\n- {TEST_JSONL}\")\n"
   ]
  },
  {
   "cell_type": "code",
   "execution_count": null,
   "id": "2cc670db",
   "metadata": {},
   "outputs": [
    {
     "name": "stdout",
     "output_type": "stream",
     "text": [
      "Integrity checks passed on samples.\n"
     ]
    }
   ],
   "source": [
    "def assert_block_ok(block):\n",
    "    lines = [ln for ln in block.splitlines() if ln.strip()]\n",
    "    assert lines[0].startswith(\"<CONTEXT> \"), \"Bad CONTEXT line\"\n",
    "    assert lines[1].startswith(\"<PLAYER> \"), \"Bad PLAYER line\"\n",
    "    assert lines[2].startswith(\"<NPC>(\"),   \"Bad NPC header\"\n",
    "    assert lines[3].strip() == \"<END>\",     \"Missing END\"\n",
    "\n",
    "    m = re.match(r\"^<NPC>\\(([^)]+)\\)\\s\", lines[2])\n",
    "    assert m and m.group(1).strip() in VALID_NPCS, \"Invalid NPC name\"\n",
    "\n",
    "for path in [TRAIN_OUT, VAL_OUT, TEST_OUT]:\n",
    "    txt = Path(path).read_text(encoding=\"utf-8\")\n",
    "    blks = [b for b in re.split(r\"\\n\\s*\\n\", txt) if b.strip()]\n",
    "    for b in blks[:50]: \n",
    "        assert_block_ok(b)\n",
    "print(\"Integrity checks passed on samples.\")\n"
   ]
  },
  {
   "cell_type": "code",
   "execution_count": null,
   "id": "6cf312e1",
   "metadata": {},
   "outputs": [],
   "source": []
  }
 ],
 "metadata": {
  "kernelspec": {
   "display_name": "venv",
   "language": "python",
   "name": "python3"
  },
  "language_info": {
   "codemirror_mode": {
    "name": "ipython",
    "version": 3
   },
   "file_extension": ".py",
   "mimetype": "text/x-python",
   "name": "python",
   "nbconvert_exporter": "python",
   "pygments_lexer": "ipython3",
   "version": "3.13.3"
  }
 },
 "nbformat": 4,
 "nbformat_minor": 5
}
