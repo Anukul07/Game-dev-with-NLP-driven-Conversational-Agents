{
 "cells": [
  {
   "cell_type": "markdown",
   "id": "2f976ca4",
   "metadata": {},
   "source": [
    "## Synthetic data pre-processing. "
   ]
  },
  {
   "cell_type": "code",
   "execution_count": 1,
   "id": "159fdb78",
   "metadata": {},
   "outputs": [],
   "source": [
    "import os, re, unicodedata, random\n",
    "\n",
    "INPUT  = os.path.join('..', 'data', 'synthetic_dialogue_1.txt')\n",
    "OUTPUT = os.path.join('..', 'data', 'game_dialogue_10k_clean.txt')\n",
    "\n",
    "TRAIN_OUT = os.path.join('..', 'data', 'game_dialogue_10k_train.txt')\n",
    "VAL_OUT   = os.path.join('..', 'data', 'game_dialogue_10k_val.txt')\n",
    "\n",
    "VALID_NPCS = {\"Jacky\", \"Mr Dawson\", \"Father Jacob\", \"Tom\", \"Sarah\"}\n"
   ]
  },
  {
   "cell_type": "code",
   "execution_count": 2,
   "id": "b614781a",
   "metadata": {},
   "outputs": [],
   "source": [
    "def normalize_text(s: str) -> str:\n",
    "    # Normalize width/spacing but keep fancy punctuation\n",
    "    s = unicodedata.normalize(\"NFKC\", s)\n",
    "    s = re.sub(r\"[ \\t]+\", \" \", s).strip()\n",
    "    return s\n",
    "\n",
    "def parse_block(lines):\n",
    "    \"\"\"\n",
    "    Expect lines containing (order can vary, but all must exist):\n",
    "      <CONTEXT> ...\n",
    "      <PLAYER> ...\n",
    "      <NPC>(Name) ...\n",
    "      <END>\n",
    "    Returns (ctx, ply, npc, end_flag) or (None, None, None, None) if malformed.\n",
    "    \"\"\"\n",
    "    ctx = ply = npc = end_flag = None\n",
    "    for ln in lines:\n",
    "        if ln.startswith(\"<CONTEXT>\"):\n",
    "            ctx = normalize_text(ln)\n",
    "        elif ln.startswith(\"<PLAYER>\"):\n",
    "            ply = normalize_text(ln)\n",
    "        elif ln.startswith(\"<NPC>(\"):\n",
    "            npc = normalize_text(ln)\n",
    "        elif ln.startswith(\"<END>\"):\n",
    "            end_flag = \"<END>\"\n",
    "    return ctx, ply, npc, end_flag\n"
   ]
  },
  {
   "cell_type": "code",
   "execution_count": 3,
   "id": "4886b819",
   "metadata": {},
   "outputs": [
    {
     "name": "stdout",
     "output_type": "stream",
     "text": [
      "Raw blocks detected: 5119\n"
     ]
    }
   ],
   "source": [
    "with open(INPUT, \"r\", encoding=\"utf-8\") as f:\n",
    "    raw = f.read()\n",
    "\n",
    "blocks = [b for b in re.split(r\"\\n\\s*\\n\", raw) if b.strip()]\n",
    "print(f\"Raw blocks detected: {len(blocks)}\")\n"
   ]
  },
  {
   "cell_type": "code",
   "execution_count": 4,
   "id": "80250a66",
   "metadata": {},
   "outputs": [
    {
     "name": "stdout",
     "output_type": "stream",
     "text": [
      "Kept: 5119 | Skipped malformed: 0 | Skipped bad NPC: 0\n"
     ]
    }
   ],
   "source": [
    "clean_blocks = []\n",
    "skipped = 0\n",
    "bad_npc = 0\n",
    "malformed = 0\n",
    "\n",
    "for b in blocks:\n",
    "    # Keep non-empty, strip trailing spaces\n",
    "    lines = [l.rstrip() for l in b.splitlines() if l.strip()]\n",
    "    ctx, ply, npc, end_flag = parse_block(lines)\n",
    "\n",
    "    # Basic presence check\n",
    "    if not (ctx and ply and npc and end_flag):\n",
    "        malformed += 1\n",
    "        continue\n",
    "\n",
    "    # Exact tag prefix validation\n",
    "    if not ctx.startswith(\"<CONTEXT> \") or not ply.startswith(\"<PLAYER> \") or not npc.startswith(\"<NPC>(\"):\n",
    "        malformed += 1\n",
    "        continue\n",
    "\n",
    "    # Validate NPC name inside parentheses\n",
    "    m = re.match(r\"^<NPC>\\(([^)]+)\\)\\s\", npc)\n",
    "    if not m:\n",
    "        malformed += 1\n",
    "        continue\n",
    "    npc_name = m.group(1).strip()\n",
    "    if npc_name not in VALID_NPCS:\n",
    "        bad_npc += 1\n",
    "        continue\n",
    "\n",
    "    # Canonicalize spacing & rebuild the block exactly (one blank line between samples later)\n",
    "    block = \"\\n\".join([ctx, ply, npc, \"<END>\"])\n",
    "    clean_blocks.append(block)\n",
    "\n",
    "print(f\"Kept: {len(clean_blocks)} | Skipped malformed: {malformed} | Skipped bad NPC: {bad_npc}\")\n"
   ]
  },
  {
   "cell_type": "code",
   "execution_count": 5,
   "id": "aa60a952",
   "metadata": {},
   "outputs": [
    {
     "name": "stdout",
     "output_type": "stream",
     "text": [
      "Deduplicated: 402 removed | Final unique blocks: 4717\n"
     ]
    }
   ],
   "source": [
    "# If your generator produced accidental duplicates, remove them:\n",
    "before = len(clean_blocks)\n",
    "clean_blocks = list(dict.fromkeys(clean_blocks))  # order-preserving unique\n",
    "after = len(clean_blocks)\n",
    "print(f\"Deduplicated: {before - after} removed | Final unique blocks: {after}\")\n"
   ]
  },
  {
   "cell_type": "code",
   "execution_count": 6,
   "id": "d6b15ea1",
   "metadata": {},
   "outputs": [],
   "source": [
    "random.seed(42)\n",
    "random.shuffle(clean_blocks)"
   ]
  },
  {
   "cell_type": "code",
   "execution_count": 7,
   "id": "579619c7",
   "metadata": {},
   "outputs": [
    {
     "name": "stdout",
     "output_type": "stream",
     "text": [
      "Cleaned file written to: ..\\data\\game_dialogue_10k_clean.txt\n"
     ]
    }
   ],
   "source": [
    "os.makedirs(os.path.dirname(OUTPUT), exist_ok=True)\n",
    "with open(OUTPUT, \"w\", encoding=\"utf-8\") as f:\n",
    "    f.write(\"\\n\\n\".join(clean_blocks) + \"\\n\")\n",
    "\n",
    "print(f\"Cleaned file written to: {OUTPUT}\")"
   ]
  },
  {
   "cell_type": "code",
   "execution_count": 8,
   "id": "084a5ac1",
   "metadata": {},
   "outputs": [
    {
     "name": "stdout",
     "output_type": "stream",
     "text": [
      "--- SAMPLE 1 ---\n",
      "<CONTEXT> Someone claimed the well water tasted sweeter today; folks nodded.\n",
      "<PLAYER> Mr Dawson, is Mr Dawson in the garden today? Is the west gate still squeaking?\n",
      "<NPC>(Mr Dawson) The garden is calm. Reputation, like roses, rewards patience.\n",
      "<END>\n",
      "\n",
      "--- SAMPLE 2 ---\n",
      "<CONTEXT> Morning sun felt warmer than usual; everyone kept to their chores.\n",
      "<PLAYER> Jacky, is Mr Dawson in the garden today?\n",
      "<NPC>(Jacky) Routine morning. Stay clear of the hedge and keep your word.\n",
      "<END>\n",
      "\n",
      "--- SAMPLE 3 ---\n",
      "<CONTEXT> Player apologized to Tom near the scaffolding; laborers passed the word along. A rumor said a merchant wagon might arrive tomorrow.\n",
      "<PLAYER> Tom, sorry if I sounded off before. Is the west gate still squeaking?\n",
      "<NPC>(Tom) All good. Hand me those nails and we’ll call it even.\n",
      "<END>\n",
      "\n"
     ]
    }
   ],
   "source": [
    "for i, blk in enumerate(clean_blocks[:3], 1):\n",
    "    print(f\"--- SAMPLE {i} ---\")\n",
    "    print(blk)\n",
    "    print()\n"
   ]
  },
  {
   "cell_type": "code",
   "execution_count": 9,
   "id": "50364b44",
   "metadata": {},
   "outputs": [
    {
     "name": "stdout",
     "output_type": "stream",
     "text": [
      "Train: 4481 -> ..\\data\\game_dialogue_10k_train.txt\n",
      "Val:   236 -> ..\\data\\game_dialogue_10k_val.txt\n"
     ]
    }
   ],
   "source": [
    "split = int(0.95 * len(clean_blocks))  # 95/5 split; tweak as you like\n",
    "train_blocks = clean_blocks[:split]\n",
    "val_blocks   = clean_blocks[split:]\n",
    "\n",
    "with open(TRAIN_OUT, \"w\", encoding=\"utf-8\") as f:\n",
    "    f.write(\"\\n\\n\".join(train_blocks) + \"\\n\")\n",
    "\n",
    "with open(VAL_OUT, \"w\", encoding=\"utf-8\") as f:\n",
    "    f.write(\"\\n\\n\".join(val_blocks) + \"\\n\")\n",
    "\n",
    "print(f\"Train: {len(train_blocks)} -> {TRAIN_OUT}\")\n",
    "print(f\"Val:   {len(val_blocks)} -> {VAL_OUT}\")\n"
   ]
  }
 ],
 "metadata": {
  "kernelspec": {
   "display_name": "venv",
   "language": "python",
   "name": "python3"
  },
  "language_info": {
   "codemirror_mode": {
    "name": "ipython",
    "version": 3
   },
   "file_extension": ".py",
   "mimetype": "text/x-python",
   "name": "python",
   "nbconvert_exporter": "python",
   "pygments_lexer": "ipython3",
   "version": "3.13.3"
  }
 },
 "nbformat": 4,
 "nbformat_minor": 5
}
